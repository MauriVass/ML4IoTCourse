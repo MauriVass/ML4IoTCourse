{
  "nbformat": 4,
  "nbformat_minor": 0,
  "metadata": {
    "colab": {
      "name": "RESTfulInfKeywordSpottingService.ipynb",
      "provenance": [],
      "authorship_tag": "ABX9TyOCoDVAabaoPQoG4lOBCwaa",
      "include_colab_link": true
    },
    "kernelspec": {
      "name": "python3",
      "display_name": "Python 3"
    }
  },
  "cells": [
    {
      "cell_type": "markdown",
      "metadata": {
        "id": "view-in-github",
        "colab_type": "text"
      },
      "source": [
        "<a href=\"https://colab.research.google.com/github/MauriVass/ML4IoTCourse/blob/master/Lab5/RESTfulInfKeywordSpottingService.ipynb\" target=\"_parent\"><img src=\"https://colab.research.google.com/assets/colab-badge.svg\" alt=\"Open In Colab\"/></a>"
      ]
    },
    {
      "cell_type": "code",
      "metadata": {
        "id": "qCTz6wrClOyJ"
      },
      "source": [
        "!pip install cherrypy"
      ],
      "execution_count": null,
      "outputs": []
    },
    {
      "cell_type": "code",
      "metadata": {
        "id": "5q3gF7TwnEFo"
      },
      "source": [
        "# import cherrypy\r\n",
        "# import sys\r\n",
        "\r\n",
        "# class HelloWorld:\r\n",
        "#     def index(self):\r\n",
        "#         return \"Hello World!\"\r\n",
        "#     index.exposed = True\r\n",
        "# if __name__ == '__main__':\r\n",
        "#    config = {'server.socket_host': '0.0.0.0','server.socket_port' : 18888}\r\n",
        "#    cherrypy.config.update(config)\r\n",
        "#    cherrypy.quickstart(HelloWorld())"
      ],
      "execution_count": null,
      "outputs": []
    },
    {
      "cell_type": "code",
      "metadata": {
        "id": "bKHdGEx9ZPlW"
      },
      "source": [
        "import random\r\n",
        "import string\r\n",
        "import cherrypy\r\n",
        "import json \r\n",
        "\r\n",
        "class KSInferenceService(object):\r\n",
        "  #Required to be accessable online\r\n",
        "  exposed=True\r\n",
        "\r\n",
        "  def __init__(self):\r\n",
        "    mlp = tf.keras.models.load_model('./moldes/kws_mlp_True')\r\n",
        "    cnn = tf.keras.models.load_model('./moldes/kws_cnn_True')\r\n",
        "    dscnn = tf.keras.models.load_model('./moldes/kws_dscnn_True')\r\n",
        "\r\n",
        "    self.models = {'mlp':mlp, 'cnn':cnn, 'dscnn':dscnn}\r\n",
        "    self.LABELS = [\"go\", \"left\", \"no\", \"right\", \"stop\", \"up\", \"yes\"]\r\n",
        "    self.linear_to_mel_weight_matrix = tf.signal.linear_to_mel_weight_matrix(40,321,16000,20,4000)\r\n",
        "\r\n",
        "  def preprocess(self,audio):\r\n",
        "    audio,_ = tf.audio.decode_wav(audio)\r\n",
        "    audio = tf.squeeze(audio, axis=1)\r\n",
        "\r\n",
        "    #STFT\r\n",
        "    stft = tf.siganl.stft(audio, fram_length=640, frame_step=320, fft_length=640)\r\n",
        "    spectrogram = tf.abs(stft)\r\n",
        "\r\n",
        "    #MFCC\r\n",
        "    mel_spectrogram = tf.tensordot(spectrogram,\r\n",
        "            self.linear_to_mel_weight_matrix, 1)\r\n",
        "    log_mel_spectrogram = tf.math.log(mel_spectrogram + 1.e-6)\r\n",
        "    mfccs = tf.signal.mfccs_from_log_mel_spectrograms(log_mel_spectrogram)\r\n",
        "    mfccs = mfccs[..., :10]\r\n",
        "\r\n",
        "    #Add channel\r\n",
        "    mfccs = tf.expand_dims(mfcc, -1)\r\n",
        "    #Add batch dimension\r\n",
        "    mfccs = tf.expand_dims(mfccs, 0)\r\n",
        "\r\n",
        "    return mfccs\r\n",
        "\r\n",
        "  def PUT(self,*path,**query):\r\n",
        "    if(len(path)!=1):\r\n",
        "      raise cherrypy.HTTPError(404,f\"Use only 1 model: {self.models.keys()}. Used: {path}\")\r\n",
        "    model = self.models[path[0]]\r\n",
        "    #Command not expected\r\n",
        "    if(model not in self.models.keys()):\r\n",
        "      raise cherrypy.HTTPError(404,f\"Model not recognized. Use: {self.models.keys()}. Used: {model}\")\r\n",
        "\r\n",
        "    input = cherrypy.request.body.read()\r\n",
        "    input = json.loads(input)\r\n",
        "    events = input['e']\r\n",
        "\r\n",
        "    audio_string = None\r\n",
        "    for e in events:\r\n",
        "      if(event['n']=='audio'):\r\n",
        "        audio_string = event['vb']\r\n",
        "      else:\r\n",
        "        raise cherrypy.HTTPError(404,f\"No audio file\")\r\n",
        "    if(audio_string is None):\r\n",
        "      raise cherrypy.HTTPError(404,f\"Empty audio file\")\r\n",
        "\r\n",
        "    audio_bytes = base64.b63.b64encode(audio_string)\r\n",
        "    mfccs = self.preprocess(audio_bytes)\r\n",
        "\r\n",
        "    logits = model.predict(mfccs)\r\n",
        "    probs = tf.nn.softmax(logits)\r\n",
        "    prob = tf.reduce_max.numpy() * 100\r\n",
        "    label_ind = tf.argmax(probs, 1).numpy()[0]\r\n",
        "    \r\n",
        "    label = self.LABELS[label_ind] \r\n",
        "    \r\n",
        "    output = {'label':label, 'probability':prob}\r\n",
        "\r\n",
        "    return json.dumps(output)\r\n",
        "\r\n",
        "#'request.dispatch': cherrypy.dispatch.MethodDispatcher() => switch from default URL to HTTP compliant approch\r\n",
        "conf = { '/': {\t'request.dispatch': cherrypy.dispatch.MethodDispatcher() } \r\n",
        "\t\t\t\t\t}\r\n",
        "cherrypy.tree.mount(KSInferenceService(), '/', conf)\r\n",
        "\r\n",
        "cherrypy.config.update({'servet.socket_host':'0.0.0.0'})\r\n",
        "cherrypy.config.update({'servet.socket_port':'8888'})\r\n",
        "\r\n",
        "### ### ###\r\n",
        "##Start a server in colab\r\n",
        "#bind the port 8888 and get a weblink to access\r\n",
        "# from google.colab.output import eval_js\r\n",
        "# print(eval_js(\"google.colab.kernel.proxyPort(8888)\"))\r\n",
        "\r\n",
        "# #run the script/API in the background\r\n",
        "# import subprocess\r\n",
        "# subprocess.Popen([\"python\", \"/\", \"8888\"]) \r\n",
        "# cherrypy.quickstart(KSInferenceService())\r\n",
        "### ### ###\r\n",
        "\r\n",
        "#cherrypy.engine.start()\r\n",
        "#cherrypy.engine.block()"
      ],
      "execution_count": null,
      "outputs": []
    },
    {
      "cell_type": "code",
      "metadata": {
        "id": "_Eq6zvtak7RU"
      },
      "source": [
        ""
      ],
      "execution_count": null,
      "outputs": []
    }
  ]
}