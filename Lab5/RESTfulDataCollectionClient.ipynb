{
  "nbformat": 4,
  "nbformat_minor": 0,
  "metadata": {
    "colab": {
      "name": "RESTfulDataCollectionClient.ipynb",
      "provenance": [],
      "authorship_tag": "ABX9TyMcgPaBZRs+489XTASvU2yY",
      "include_colab_link": true
    },
    "kernelspec": {
      "name": "python3",
      "display_name": "Python 3"
    }
  },
  "cells": [
    {
      "cell_type": "markdown",
      "metadata": {
        "id": "view-in-github",
        "colab_type": "text"
      },
      "source": [
        "<a href=\"https://colab.research.google.com/github/MauriVass/ML4IoTCourse/blob/master/Lab5/RESTfulDataCollectionClient.ipynb\" target=\"_parent\"><img src=\"https://colab.research.google.com/assets/colab-badge.svg\" alt=\"Open In Colab\"/></a>"
      ]
    },
    {
      "cell_type": "code",
      "metadata": {
        "id": "m3XjoA_TbUWZ"
      },
      "source": [
        "import requests\r\n",
        "import json \r\n",
        "import time\r\n",
        "import datetime\r\n",
        "import pyaudio\r\n",
        "\r\n",
        "for i in range(10):\r\n",
        "  ip_address = 'http://localhost:8080/'\r\n",
        "  r = requests.post(ip_address, data=data)\r\n",
        "\r\n",
        "  if(r.status_code==200):\r\n",
        "    results = r.json()\r\n",
        "    timestamp = results['bi']\r\n",
        "    date = datetime.datetime.fromtimestamp(timestamp)\r\n",
        "\r\n",
        "    events = results['e']\r\n",
        "    temperature = events['temperature']\r\n",
        "    humidity = events['humidity']\r\n",
        "    audio = events['audio']\r\n",
        "    \r\n",
        "    output = str(date) + ' ' + temperature['v'] + temperature['u'] + ' ' + humidity['v'] + humidity['u']\r\n",
        "    print(output)\r\n",
        "\r\n",
        "    waveFile = wave.open(str(timestamp)+'.wav','wb')\r\n",
        "    waveFile.setnchannels(1)\r\n",
        "\t\twaveFile.setsampwidth(audio.get_sample_size(pyaudio.paInt16))\r\n",
        "\t\twaveFile.setframerate(48000)\r\n",
        "\t\t#Merge all the recorded frames as binary\r\n",
        "\t\twaveFile.writeframes(b''.join(audio['vd']))\r\n",
        "\t\twaveFile.close()\r\n",
        "  \r\n",
        "  else:\r\n",
        "    raise KeyError(r.text)\r\n",
        "  \r\n",
        "  time.sleep(30)"
      ],
      "execution_count": null,
      "outputs": []
    }
  ]
}